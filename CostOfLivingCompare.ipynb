{
 "cells": [
  {
   "cell_type": "markdown",
   "id": "4c547424",
   "metadata": {},
   "source": [
    "Time to compare cost of living around the world.\n",
    "\n",
    "Our dataset will be used from website https://www.numbeo.com/cost-of-living/\n",
    "\n",
    "\n",
    "Let's read collected data"
   ]
  },
  {
   "cell_type": "code",
   "execution_count": 1,
   "id": "dd7f60bf",
   "metadata": {},
   "outputs": [],
   "source": [
    "import pandas as pd\n",
    "import numpy as np\n",
    "import matplotlib.pyplot as plt\n",
    "import seaborn as sns\n",
    "import plotly.express as px\n",
    "import folium\n",
    "import geopandas as gpd\n",
    "from IPython.display import display, HTML\n",
    "import requests"
   ]
  },
  {
   "cell_type": "code",
   "execution_count": 2,
   "id": "1ee9eb0a",
   "metadata": {},
   "outputs": [],
   "source": [
    "file = r'C:\\Users\\rocze\\Desktop\\pythonProject\\COL.json'"
   ]
  },
  {
   "cell_type": "code",
   "execution_count": 3,
   "id": "d15ed0b0",
   "metadata": {},
   "outputs": [
    {
     "name": "stdout",
     "output_type": "stream",
     "text": [
      "        CountryName Meal, Inexpensive Restaurant  \\\n",
      "0       Afghanistan                       1.67 $   \n",
      "1     Aland Islands                      13.09 $   \n",
      "2           Albania                       5.51 $   \n",
      "3          Alderney                      22.32 $   \n",
      "4           Algeria                       2.19 $   \n",
      "..              ...                          ...   \n",
      "229         Vietnam                       2.12 $   \n",
      "230  Western Sahara                       3.20 $   \n",
      "231           Yemen                       5.99 $   \n",
      "232          Zambia                       3.67 $   \n",
      "233        Zimbabwe                       6.00 $   \n",
      "\n",
      "    Meal for 2 People, Mid-range Restaurant, Three-course  \\\n",
      "0                                               7.78 $      \n",
      "1                                              64.10 $      \n",
      "2                                              27.57 $      \n",
      "3                                              72.38 $      \n",
      "4                                              14.63 $      \n",
      "..                                                 ...      \n",
      "229                                            21.19 $      \n",
      "230                                            26.71 $      \n",
      "231                                            19.97 $      \n",
      "232                                            29.40 $      \n",
      "233                                            40.00 $      \n",
      "\n",
      "    McMeal at McDonalds (or Equivalent Combo Meal) Cappuccino (regular)  \\\n",
      "0                                           3.08 $               1.06 $   \n",
      "1                                          10.68 $               3.74 $   \n",
      "2                                           5.51 $               1.31 $   \n",
      "3                                           9.65 $               3.52 $   \n",
      "4                                           3.66 $               0.61 $   \n",
      "..                                             ...                  ...   \n",
      "229                                         4.66 $               1.84 $   \n",
      "230                                         5.34 $               1.07 $   \n",
      "231                                         9.99 $               3.18 $   \n",
      "232                                         3.41 $               1.75 $   \n",
      "233                                         6.00 $               2.21 $   \n",
      "\n",
      "    Coke/Pepsi (0.33 liter bottle) Water (0.33 liter bottle)  \\\n",
      "0                           0.35 $                    0.16 $   \n",
      "1                           2.24 $                    1.74 $   \n",
      "2                           1.32 $                    0.63 $   \n",
      "3                           1.99 $                    1.01 $   \n",
      "4                           0.48 $                    0.20 $   \n",
      "..                             ...                       ...   \n",
      "229                         0.53 $                    0.32 $   \n",
      "230                         0.53 $                    0.32 $   \n",
      "231                         1.37 $                    0.67 $   \n",
      "232                         0.83 $                    0.46 $   \n",
      "233                         0.65 $                    0.47 $   \n",
      "\n",
      "    Milk (regular), (1 liter) Loaf of Fresh White Bread (500g)  \\\n",
      "0                      0.58 $                           0.23 $   \n",
      "1                      1.10 $                           1.87 $   \n",
      "2                      1.35 $                           0.72 $   \n",
      "3                      1.81 $                           2.41 $   \n",
      "4                      0.78 $                           0.16 $   \n",
      "..                        ...                              ...   \n",
      "229                    1.48 $                           1.02 $   \n",
      "230                    0.75 $                           0.53 $   \n",
      "231                    2.26 $                           1.25 $   \n",
      "232                    1.19 $                           0.98 $   \n",
      "233                    1.58 $                           1.00 $   \n",
      "\n",
      "    Rice (white), (1kg)  ... 1 Pair of Nike Running Shoes (Mid-Range)  \\\n",
      "0                1.20 $  ...                                  29.64 $   \n",
      "1                2.07 $  ...                                 117.51 $   \n",
      "2                1.42 $  ...                                  74.80 $   \n",
      "3                     ?  ...                                        ?   \n",
      "4                1.09 $  ...                                  65.82 $   \n",
      "..                  ...  ...                                      ...   \n",
      "229              0.97 $  ...                                  93.32 $   \n",
      "230              1.71 $  ...                                  69.44 $   \n",
      "231              4.00 $  ...                                  74.23 $   \n",
      "232              1.83 $  ...                                  90.18 $   \n",
      "233              1.49 $  ...                                  39.44 $   \n",
      "\n",
      "    1 Pair of Men Leather Business Shoes Apartment (1 bedroom) in City Centre  \\\n",
      "0                                34.27 $                              93.89 $   \n",
      "1                               131.76 $                             747.82 $   \n",
      "2                                86.88 $                             353.76 $   \n",
      "3                                      ?                                    ?   \n",
      "4                                75.38 $                             167.91 $   \n",
      "..                                   ...                                  ...   \n",
      "229                              93.98 $                             377.45 $   \n",
      "230                              74.78 $                             320.50 $   \n",
      "231                              89.56 $                             265.13 $   \n",
      "232                             105.64 $                             274.41 $   \n",
      "233                              41.11 $                             282.35 $   \n",
      "\n",
      "    Apartment (1 bedroom) Outside of Centre  \\\n",
      "0                                   55.57 $   \n",
      "1                                  560.87 $   \n",
      "2                                  221.69 $   \n",
      "3                                         ?   \n",
      "4                                  106.18 $   \n",
      "..                                      ...   \n",
      "229                                235.36 $   \n",
      "230                                160.25 $   \n",
      "231                                163.62 $   \n",
      "232                                193.01 $   \n",
      "233                                260.83 $   \n",
      "\n",
      "    Apartment (3 bedrooms) in City Centre  \\\n",
      "0                                226.32 $   \n",
      "1                              1,228.57 $   \n",
      "2                                610.71 $   \n",
      "3                                       ?   \n",
      "4                                282.35 $   \n",
      "..                                    ...   \n",
      "229                              859.01 $   \n",
      "230                              640.99 $   \n",
      "231                              540.18 $   \n",
      "232                              924.31 $   \n",
      "233                              828.57 $   \n",
      "\n",
      "    Apartment (3 bedrooms) Outside of Centre  \\\n",
      "0                                   137.82 $   \n",
      "1                                   988.19 $   \n",
      "2                                   363.63 $   \n",
      "3                                   965.10 $   \n",
      "4                                   185.38 $   \n",
      "..                                       ...   \n",
      "229                                 492.50 $   \n",
      "230                                 267.08 $   \n",
      "231                                 403.36 $   \n",
      "232                                 438.29 $   \n",
      "233                                 661.54 $   \n",
      "\n",
      "    Price per Square Meter to Buy Apartment in City Centre  \\\n",
      "0                                             614.26 $       \n",
      "1                                           2,848.85 $       \n",
      "2                                           1,747.62 $       \n",
      "3                                                    ?       \n",
      "4                                           1,047.51 $       \n",
      "..                                                 ...       \n",
      "229                                         2,754.98 $       \n",
      "230                                           598.26 $       \n",
      "231                                         1,304.22 $       \n",
      "232                                        10,763.91 $       \n",
      "233                                         1,069.10 $       \n",
      "\n",
      "    Price per Square Meter to Buy Apartment Outside of Centre  \\\n",
      "0                                             251.91 $          \n",
      "1                                           2,029.80 $          \n",
      "2                                             900.76 $          \n",
      "3                                                    ?          \n",
      "4                                             626.80 $          \n",
      "..                                                 ...          \n",
      "229                                         1,465.91 $          \n",
      "230                                           491.43 $          \n",
      "231                                           789.14 $          \n",
      "232                                        39,211.94 $          \n",
      "233                                         1,266.67 $          \n",
      "\n",
      "    Average Monthly Net Salary (After Tax)  \\\n",
      "0                                 181.99 $   \n",
      "1                               2,599.57 $   \n",
      "2                                 420.96 $   \n",
      "3                                        ?   \n",
      "4                                 263.73 $   \n",
      "..                                     ...   \n",
      "229                               445.56 $   \n",
      "230                               213.66 $   \n",
      "231                               378.65 $   \n",
      "232                               396.94 $   \n",
      "233                               295.45 $   \n",
      "\n",
      "    Mortgage Interest Rate in Percentages (%), Yearly, for 20 Years Fixed-Rate  \n",
      "0                                                13.36                          \n",
      "1                                                 1.95                          \n",
      "2                                                 4.73                          \n",
      "3                                                    ?                          \n",
      "4                                                 6.57                          \n",
      "..                                                 ...                          \n",
      "229                                               9.98                          \n",
      "230                                                  ?                          \n",
      "231                                              11.25                          \n",
      "232                                              23.25                          \n",
      "233                                              15.00                          \n",
      "\n",
      "[234 rows x 50 columns]\n"
     ]
    }
   ],
   "source": [
    "data = pd.read_json(file)\n",
    "print(data)"
   ]
  },
  {
   "cell_type": "markdown",
   "id": "fdf86d26",
   "metadata": {},
   "source": [
    "That's a lot of data, we should focus of few columns."
   ]
  },
  {
   "cell_type": "code",
   "execution_count": 4,
   "id": "497e7e74",
   "metadata": {},
   "outputs": [
    {
     "name": "stdout",
     "output_type": "stream",
     "text": [
      "        CountryName Coke/Pepsi (0.33 liter bottle) Water (0.33 liter bottle)  \\\n",
      "0       Afghanistan                         0.35 $                    0.16 $   \n",
      "1     Aland Islands                         2.24 $                    1.74 $   \n",
      "2           Albania                         1.32 $                    0.63 $   \n",
      "3          Alderney                         1.99 $                    1.01 $   \n",
      "4           Algeria                         0.48 $                    0.20 $   \n",
      "..              ...                            ...                       ...   \n",
      "229         Vietnam                         0.53 $                    0.32 $   \n",
      "230  Western Sahara                         0.53 $                    0.32 $   \n",
      "231           Yemen                         1.37 $                    0.67 $   \n",
      "232          Zambia                         0.83 $                    0.46 $   \n",
      "233        Zimbabwe                         0.65 $                    0.47 $   \n",
      "\n",
      "    Rice (white), (1kg) 1 Pair of Nike Running Shoes (Mid-Range)  \\\n",
      "0                1.20 $                                  29.64 $   \n",
      "1                2.07 $                                 117.51 $   \n",
      "2                1.42 $                                  74.80 $   \n",
      "3                     ?                                        ?   \n",
      "4                1.09 $                                  65.82 $   \n",
      "..                  ...                                      ...   \n",
      "229              0.97 $                                  93.32 $   \n",
      "230              1.71 $                                  69.44 $   \n",
      "231              4.00 $                                  74.23 $   \n",
      "232              1.83 $                                  90.18 $   \n",
      "233              1.49 $                                  39.44 $   \n",
      "\n",
      "    Apartment (1 bedroom) in City Centre  \\\n",
      "0                                93.89 $   \n",
      "1                               747.82 $   \n",
      "2                               353.76 $   \n",
      "3                                      ?   \n",
      "4                               167.91 $   \n",
      "..                                   ...   \n",
      "229                             377.45 $   \n",
      "230                             320.50 $   \n",
      "231                             265.13 $   \n",
      "232                             274.41 $   \n",
      "233                             282.35 $   \n",
      "\n",
      "    Apartment (3 bedrooms) in City Centre  \\\n",
      "0                                226.32 $   \n",
      "1                              1,228.57 $   \n",
      "2                                610.71 $   \n",
      "3                                       ?   \n",
      "4                                282.35 $   \n",
      "..                                    ...   \n",
      "229                              859.01 $   \n",
      "230                              640.99 $   \n",
      "231                              540.18 $   \n",
      "232                              924.31 $   \n",
      "233                              828.57 $   \n",
      "\n",
      "    Price per Square Meter to Buy Apartment in City Centre  \\\n",
      "0                                             614.26 $       \n",
      "1                                           2,848.85 $       \n",
      "2                                           1,747.62 $       \n",
      "3                                                    ?       \n",
      "4                                           1,047.51 $       \n",
      "..                                                 ...       \n",
      "229                                         2,754.98 $       \n",
      "230                                           598.26 $       \n",
      "231                                         1,304.22 $       \n",
      "232                                        10,763.91 $       \n",
      "233                                         1,069.10 $       \n",
      "\n",
      "    Average Monthly Net Salary (After Tax)  \n",
      "0                                 181.99 $  \n",
      "1                               2,599.57 $  \n",
      "2                                 420.96 $  \n",
      "3                                        ?  \n",
      "4                                 263.73 $  \n",
      "..                                     ...  \n",
      "229                               445.56 $  \n",
      "230                               213.66 $  \n",
      "231                               378.65 $  \n",
      "232                               396.94 $  \n",
      "233                               295.45 $  \n",
      "\n",
      "[234 rows x 9 columns]\n"
     ]
    }
   ],
   "source": [
    "selectedData = data[['CountryName','Coke/Pepsi (0.33 liter bottle)','Water (0.33 liter bottle)','Rice (white), (1kg)','1 Pair of Nike Running Shoes (Mid-Range)','Apartment (1 bedroom) in City Centre','Apartment (3 bedrooms) in City Centre','Price per Square Meter to Buy Apartment in City Centre','Average Monthly Net Salary (After Tax)']]\n",
    "print(selectedData)"
   ]
  },
  {
   "cell_type": "markdown",
   "id": "c4b26f23",
   "metadata": {},
   "source": [
    "But let's first clear our data, we have to remove some things from our table"
   ]
  },
  {
   "cell_type": "code",
   "execution_count": 5,
   "id": "8ba5ed81",
   "metadata": {},
   "outputs": [
    {
     "name": "stdout",
     "output_type": "stream",
     "text": [
      "        CountryName Coke/Pepsi (0.33 liter bottle) Water (0.33 liter bottle)  \\\n",
      "0       Afghanistan                           0.35                      0.16   \n",
      "1     Aland Islands                           2.24                      1.74   \n",
      "2           Albania                           1.32                      0.63   \n",
      "3          Alderney                           1.99                      1.01   \n",
      "4           Algeria                           0.48                       0.2   \n",
      "..              ...                            ...                       ...   \n",
      "229         Vietnam                           0.53                      0.32   \n",
      "230  Western Sahara                           0.53                      0.32   \n",
      "231           Yemen                           1.37                      0.67   \n",
      "232          Zambia                           0.83                      0.46   \n",
      "233        Zimbabwe                           0.65                      0.47   \n",
      "\n",
      "    Rice (white), (1kg) 1 Pair of Nike Running Shoes (Mid-Range)  \\\n",
      "0                   1.2                                    29.64   \n",
      "1                  2.07                                   117.51   \n",
      "2                  1.42                                     74.8   \n",
      "3                   NaN                                      NaN   \n",
      "4                  1.09                                    65.82   \n",
      "..                  ...                                      ...   \n",
      "229                0.97                                    93.32   \n",
      "230                1.71                                    69.44   \n",
      "231                 4.0                                    74.23   \n",
      "232                1.83                                    90.18   \n",
      "233                1.49                                    39.44   \n",
      "\n",
      "    Apartment (1 bedroom) in City Centre  \\\n",
      "0                                  93.89   \n",
      "1                                 747.82   \n",
      "2                                 353.76   \n",
      "3                                    NaN   \n",
      "4                                 167.91   \n",
      "..                                   ...   \n",
      "229                               377.45   \n",
      "230                                320.5   \n",
      "231                               265.13   \n",
      "232                               274.41   \n",
      "233                               282.35   \n",
      "\n",
      "    Apartment (3 bedrooms) in City Centre  \\\n",
      "0                                  226.32   \n",
      "1                                 1228.57   \n",
      "2                                  610.71   \n",
      "3                                     NaN   \n",
      "4                                  282.35   \n",
      "..                                    ...   \n",
      "229                                859.01   \n",
      "230                                640.99   \n",
      "231                                540.18   \n",
      "232                                924.31   \n",
      "233                                828.57   \n",
      "\n",
      "    Price per Square Meter to Buy Apartment in City Centre  \\\n",
      "0                                               614.26       \n",
      "1                                              2848.85       \n",
      "2                                              1747.62       \n",
      "3                                                  NaN       \n",
      "4                                              1047.51       \n",
      "..                                                 ...       \n",
      "229                                            2754.98       \n",
      "230                                             598.26       \n",
      "231                                            1304.22       \n",
      "232                                           10763.91       \n",
      "233                                             1069.1       \n",
      "\n",
      "    Average Monthly Net Salary (After Tax)  \n",
      "0                                   181.99  \n",
      "1                                  2599.57  \n",
      "2                                   420.96  \n",
      "3                                      NaN  \n",
      "4                                   263.73  \n",
      "..                                     ...  \n",
      "229                                 445.56  \n",
      "230                                 213.66  \n",
      "231                                 378.65  \n",
      "232                                 396.94  \n",
      "233                                 295.45  \n",
      "\n",
      "[234 rows x 9 columns]\n"
     ]
    }
   ],
   "source": [
    "selectedData = selectedData.applymap(lambda x: x.replace('\\u00a0$', '') if isinstance(x, str) else x)\n",
    "selectedData = selectedData.applymap(lambda x: x.replace(',', '') if isinstance(x, str) else x)\n",
    "selectedData.iloc[:, 1:] = selectedData.iloc[:, 1:].apply(lambda x: pd.to_numeric(x, errors='coerce'))\n",
    "print(selectedData)"
   ]
  },
  {
   "cell_type": "markdown",
   "id": "d893fe68",
   "metadata": {},
   "source": [
    "Therefore we need to change the type of columns from object to numerical"
   ]
  },
  {
   "cell_type": "code",
   "execution_count": 6,
   "id": "d729304d",
   "metadata": {},
   "outputs": [],
   "source": [
    "selectedData['Coke/Pepsi (0.33 liter bottle)'] = selectedData['Coke/Pepsi (0.33 liter bottle)'].astype(float)\n",
    "selectedData['Water (0.33 liter bottle)'] = selectedData['Water (0.33 liter bottle)'].astype(float)\n",
    "selectedData['Rice (white), (1kg)'] = selectedData['Rice (white), (1kg)'].astype(float)\n",
    "selectedData['1 Pair of Nike Running Shoes (Mid-Range)'] = selectedData['1 Pair of Nike Running Shoes (Mid-Range)'].astype(float)\n",
    "selectedData['Apartment (1 bedroom) in City Centre'] = selectedData['Apartment (1 bedroom) in City Centre'].astype(float)\n",
    "selectedData['Apartment (3 bedrooms) in City Centre'] = selectedData['Apartment (3 bedrooms) in City Centre'].astype(float)\n",
    "selectedData['Price per Square Meter to Buy Apartment in City Centre'] = selectedData['Price per Square Meter to Buy Apartment in City Centre'].astype(float)\n",
    "selectedData['Average Monthly Net Salary (After Tax)'] = selectedData['Average Monthly Net Salary (After Tax)'].astype(float)"
   ]
  },
  {
   "cell_type": "code",
   "execution_count": 7,
   "id": "2cd6d868",
   "metadata": {
    "scrolled": true
   },
   "outputs": [
    {
     "data": {
      "text/plain": [
       "CountryName                                                object\n",
       "Coke/Pepsi (0.33 liter bottle)                            float64\n",
       "Water (0.33 liter bottle)                                 float64\n",
       "Rice (white), (1kg)                                       float64\n",
       "1 Pair of Nike Running Shoes (Mid-Range)                  float64\n",
       "Apartment (1 bedroom) in City Centre                      float64\n",
       "Apartment (3 bedrooms) in City Centre                     float64\n",
       "Price per Square Meter to Buy Apartment in City Centre    float64\n",
       "Average Monthly Net Salary (After Tax)                    float64\n",
       "dtype: object"
      ]
     },
     "execution_count": 7,
     "metadata": {},
     "output_type": "execute_result"
    }
   ],
   "source": [
    "selectedData.dtypes"
   ]
  },
  {
   "cell_type": "markdown",
   "id": "955ca29b",
   "metadata": {},
   "source": [
    "Our columns names are little to long."
   ]
  },
  {
   "cell_type": "code",
   "execution_count": 8,
   "id": "6457addb",
   "metadata": {},
   "outputs": [
    {
     "name": "stdout",
     "output_type": "stream",
     "text": [
      "            Country  Coke 0.33l  Water 0.33l  Rice 1kg  Nike Runners  \\\n",
      "0       Afghanistan        0.35         0.16      1.20         29.64   \n",
      "1     Aland Islands        2.24         1.74      2.07        117.51   \n",
      "2           Albania        1.32         0.63      1.42         74.80   \n",
      "3          Alderney        1.99         1.01       NaN           NaN   \n",
      "4           Algeria        0.48         0.20      1.09         65.82   \n",
      "..              ...         ...          ...       ...           ...   \n",
      "229         Vietnam        0.53         0.32      0.97         93.32   \n",
      "230  Western Sahara        0.53         0.32      1.71         69.44   \n",
      "231           Yemen        1.37         0.67      4.00         74.23   \n",
      "232          Zambia        0.83         0.46      1.83         90.18   \n",
      "233        Zimbabwe        0.65         0.47      1.49         39.44   \n",
      "\n",
      "     1B Apartment  3B Apartment  1SM Price in Center  Avg Salary  \n",
      "0           93.89        226.32               614.26      181.99  \n",
      "1          747.82       1228.57              2848.85     2599.57  \n",
      "2          353.76        610.71              1747.62      420.96  \n",
      "3             NaN           NaN                  NaN         NaN  \n",
      "4          167.91        282.35              1047.51      263.73  \n",
      "..            ...           ...                  ...         ...  \n",
      "229        377.45        859.01              2754.98      445.56  \n",
      "230        320.50        640.99               598.26      213.66  \n",
      "231        265.13        540.18              1304.22      378.65  \n",
      "232        274.41        924.31             10763.91      396.94  \n",
      "233        282.35        828.57              1069.10      295.45  \n",
      "\n",
      "[234 rows x 9 columns]\n"
     ]
    }
   ],
   "source": [
    "selectedData.columns=['Country','Coke 0.33l','Water 0.33l','Rice 1kg','Nike Runners','1B Apartment','3B Apartment','1SM Price in Center','Avg Salary']\n",
    "print(selectedData)"
   ]
  },
  {
   "cell_type": "markdown",
   "id": "23b4a57c",
   "metadata": {},
   "source": [
    "For our visualization we need world map"
   ]
  },
  {
   "cell_type": "code",
   "execution_count": 10,
   "id": "a38087ba",
   "metadata": {},
   "outputs": [],
   "source": [
    "world = gpd.read_file(gpd.datasets.get_path('naturalearth_lowres'))\n",
    "world.to_file(\"world-countries.json\", driver=\"GeoJSON\")"
   ]
  },
  {
   "cell_type": "code",
   "execution_count": 11,
   "id": "85c9625c",
   "metadata": {},
   "outputs": [],
   "source": [
    "map=r\"C:\\Users\\rocze\\world-countries.json\"\n",
    "m = folium.Map(location=[48, -102], zoom_start=3)\n",
    "folium.Choropleth(\n",
    "    geo_data=map,\n",
    "    data=selectedData,\n",
    "    columns=[\"Country\", \"Avg Salary\"],\n",
    "    key_on=\"feature.properties.name\",\n",
    "    fill_color=\"YlGn\",\n",
    "    fill_opacity=0.7,\n",
    "    line_opacity=0.2,\n",
    "    legend_name=\"Average Salary (USD)\",\n",
    "    reset=True\n",
    ").add_to(m)\n",
    "m.save(\"avg_salary_map.html\")"
   ]
  },
  {
   "cell_type": "markdown",
   "id": "94306736",
   "metadata": {},
   "source": [
    "Something wrong is with USA and other names, let's fix it!"
   ]
  },
  {
   "cell_type": "code",
   "execution_count": 9,
   "id": "a99e5b46",
   "metadata": {},
   "outputs": [],
   "source": [
    "row = selectedData.loc[selectedData['Country'] == \"United States\"]\n",
    "selectedData.at[row.index[0], 'Country'] = 'United States of America'\n",
    "row2 = selectedData.loc[selectedData['Country'] == \"Czech Republic\"]\n",
    "selectedData.at[row2.index[0], 'Country'] = 'Czechia'\n",
    "row3 = selectedData.loc[selectedData['Country'] == \"Kosovo (Disputed Territory)\"]\n",
    "selectedData.at[row3.index[0], 'Country'] = 'Kosovo'\n",
    "row4 = selectedData.loc[selectedData['Country'] == \"Republic Of Congo\"]\n",
    "selectedData.at[row4.index[0], 'Country'] = 'Dem. Rep. Congo'\n",
    "row5 = selectedData.loc[selectedData['Country'] == \"South Sudan\"]\n",
    "selectedData.at[row5.index[0], 'Country'] = 'S. Sudan'\n",
    "row6 = selectedData.loc[selectedData['Country'] == \"Bosnia And Herzegovina\"]\n",
    "selectedData.at[row6.index[0], 'Country'] = 'Bosnia and Herz.'"
   ]
  },
  {
   "cell_type": "markdown",
   "id": "26e43d33",
   "metadata": {},
   "source": [
    "Here is the map we created:\n",
    "https://github.com/Alcosmao/CostOfLifeAroundTheWorld/blob/main/avg_salary_map.html"
   ]
  },
  {
   "cell_type": "code",
   "execution_count": 12,
   "id": "c9f7439a",
   "metadata": {},
   "outputs": [
    {
     "data": {
      "text/html": [
       "404: Not Found"
      ],
      "text/plain": [
       "<IPython.core.display.HTML object>"
      ]
     },
     "metadata": {},
     "output_type": "display_data"
    }
   ],
   "source": [
    "### IN PROGRESS ###\n",
    "html_file_url = 'https://raw.githubusercontent.com/Alcosmao/CostOfLifeAroundTheWorld/blob/main/avg_salary_map.html'\n",
    "html_content = requests.get(html_file_url).text\n",
    "display(HTML(html_content))"
   ]
  },
  {
   "cell_type": "markdown",
   "id": "ddba5a0a",
   "metadata": {},
   "source": [
    "Okay, now time to see how many years we need to save money to buy a 72m2 flat in city center, taking in consideration that we can save around 20% of our monthly wage"
   ]
  },
  {
   "cell_type": "code",
   "execution_count": 13,
   "id": "8c7ca6a3",
   "metadata": {
    "scrolled": true
   },
   "outputs": [
    {
     "data": {
      "image/png": "[encoded data removed]",
      "text/plain": [
       "<Figure size 1200x600 with 1 Axes>"
      ]
     },
     "metadata": {},
     "output_type": "display_data"
    }
   ],
   "source": [
    "selectedData[\"72m2 Flat Price\"] = 72 * selectedData[\"1SM Price in Center\"]\n",
    "selectedData[\"Years Needed\"] = selectedData[\"72m2 Flat Price\"] / (selectedData[\"Avg Salary\"] * 12 * 0.8)\n",
    "sns.catplot(x=\"Country\", y=\"Years Needed\", kind=\"violin\", data=selectedData, height=6, aspect=2)\n",
    "plt.show()"
   ]
  },
  {
   "cell_type": "code",
   "execution_count": 15,
   "id": "b9b793d9",
   "metadata": {
    "scrolled": true
   },
   "outputs": [
    {
     "name": "stdout",
     "output_type": "stream",
     "text": [
      "            Country  Avg Salary  1SM Price in Center  Years Needed\n",
      "0       Afghanistan      181.99               614.26     25.314303\n",
      "1     Aland Islands     2599.57              2848.85      8.219196\n",
      "2           Albania      420.96              1747.62     31.136331\n",
      "3          Alderney         NaN                  NaN           NaN\n",
      "4           Algeria      263.73              1047.51     29.789273\n",
      "..              ...         ...                  ...           ...\n",
      "229         Vietnam      445.56              2754.98     46.373889\n",
      "230  Western Sahara      213.66               598.26     21.000421\n",
      "231           Yemen      378.65              1304.22     25.832959\n",
      "232          Zambia      396.94             10763.91    203.379163\n",
      "233        Zimbabwe      295.45              1069.10     27.139110\n",
      "\n",
      "[234 rows x 4 columns]\n"
     ]
    }
   ],
   "source": [
    "selectedColumns = selectedData[[\"Country\", \"Avg Salary\",\"1SM Price in Center\",\"Years Needed\"]]\n",
    "print(selectedColumns)\n"
   ]
  },
  {
   "cell_type": "markdown",
   "id": "ff24cabc",
   "metadata": {},
   "source": [
    "Honestly, we cannot see anything here, lets visualize data fot top and bottom ten results."
   ]
  },
  {
   "cell_type": "code",
   "execution_count": 18,
   "id": "38687a5b",
   "metadata": {},
   "outputs": [
    {
     "name": "stderr",
     "output_type": "stream",
     "text": [
      "C:\\Users\\rocze\\AppData\\Local\\Temp\\ipykernel_46952\\2754696310.py:12: UserWarning: FixedFormatter should only be used together with FixedLocator\n",
      "  ax.set_yticklabels(longestTen[\"Country\"] + shortestTen[\"Country\"])\n"
     ]
    },
    {
     "data": {
      "image/png": "[encoded data removed]",
      "text/plain": [
       "<Figure size 640x480 with 1 Axes>"
      ]
     },
     "metadata": {},
     "output_type": "display_data"
    }
   ],
   "source": [
    "longestTen = selectedData.nlargest(10, \"Years Needed\")\n",
    "shortestTen = selectedData.nsmallest(10, \"Years Needed\")\n",
    "fig, ax = plt.subplots()\n",
    "ax.barh(longestTen[\"Country\"], longestTen[\"Years Needed\"], color='red')\n",
    "ax.barh(shortestTen[\"Country\"], shortestTen[\"Years Needed\"], color='blue')\n",
    "for i, (value, country) in enumerate(zip(longestTen[\"Years Needed\"], longestTen[\"Country\"])):\n",
    "    ax.text(value, i, str(value), ha='left', va='center')\n",
    "for i, (value, country) in enumerate(zip(shortestTen[\"Years Needed\"], shortestTen[\"Country\"])):\n",
    "    ax.text(value, i, str(value), ha='left', va='center')\n",
    "ax.set_title(\"Top and Bottom 10 Countries by Years Needed\")\n",
    "ax.set_xlabel(\"Years Needed\")\n",
    "ax.set_yticklabels(longestTen[\"Country\"] + shortestTen[\"Country\"])\n",
    "plt.show()"
   ]
  },
  {
   "cell_type": "code",
   "execution_count": null,
   "id": "dc0fb1d6",
   "metadata": {},
   "outputs": [],
   "source": []
  }
 ],
 "metadata": {
  "kernelspec": {
   "display_name": "Python 3 (ipykernel)",
   "language": "python",
   "name": "python3"
  },
  "language_info": {
   "codemirror_mode": {
    "name": "ipython",
    "version": 3
   },
   "file_extension": ".py",
   "mimetype": "text/x-python",
   "name": "python",
   "nbconvert_exporter": "python",
   "pygments_lexer": "ipython3",
   "version": "3.10.6"
  }
 },
 "nbformat": 4,
 "nbformat_minor": 5
}
